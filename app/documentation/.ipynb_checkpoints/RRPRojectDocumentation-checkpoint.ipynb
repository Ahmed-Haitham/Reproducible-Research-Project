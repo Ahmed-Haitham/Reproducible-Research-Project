{
 "cells": [
  {
   "cell_type": "markdown",
   "id": "750621fc",
   "metadata": {},
   "source": [
    "<div style=\"text-align:right;\">Pearly Tantra 455722</div>\n",
    "<div style=\"text-align:right;\">Irena Zimovska 414522</div>\n",
    "<div style=\"text-align:right;\">Jakub Bandurski 417911</div>\n",
    "<div style=\"text-align:right;\">Ahmed Haitham 454778</div>"
   ]
  },
  {
   "cell_type": "markdown",
   "id": "c784d02d",
   "metadata": {},
   "source": [
    "<h2 style=\"text-align:center;\">Taxi Fares Prediction</h2>\n",
    "<h3 style=\"text-align:center;\">Project Documentation</h3>"
   ]
  },
  {
   "cell_type": "markdown",
   "id": "7bda9460",
   "metadata": {},
   "source": [
    "---"
   ]
  },
  {
   "cell_type": "markdown",
   "id": "dc55a00e",
   "metadata": {},
   "source": [
    "<div style=\"overflow: auto;\">\n",
    "    <div style=\"float: left; margin-right: 10px;\">\n",
    "        <img src=\"taxipicture.jpg\" alt=\"Taxi Picture\" style=\"width: 200px;\">\n",
    "    </div>\n",
    "    <div style=\"text-align:justify;\">\n",
    "        <h3>Brief Background</h3>\n",
    "        <p style=\"text-align:justify;\">In transportation and urban analytics, predictive modeling aids in forecasting taxi fares, pivotal for urban transportation and customer decisions. This project applies Machine Learning to predict taxi fares in New York using geospatial point data. It estimates fare amounts based on factors like pickup/drop-off locations, trip distance, and time of day. Machine learning algorithms offer precision in capturing the spatial and temporal complexities of taxi operations, enhancing fare prediction accuracy.</p>\n",
    "    </div>\n",
    "</div>"
   ]
  },
  {
   "cell_type": "markdown",
   "id": "7557d10b",
   "metadata": {},
   "source": [
    "### What's New ?\n",
    "<p style=\"text-align:justify;\"> In the previous study, the code was structured within Rmd files, arranged linearly without the sophistication necessary for efficient ETL processes. In our study, we embraced a more methodical and structured programming methodology, integrating object-oriented principles and classes within the Python language. This transition empowered us to craft a more adaptable program adept at handling dynamic datasets, a capability absent in Rmd-based code's static nature. Moreover, beyond refining the ETL process, we aim to architect our code to identify optimal models for taxi fare prediction, thereby amplifying the breadth and influence of our research. Our collaborative efforts in this project were facilitated through the utilization of Git.</p>"
   ]
  },
  {
   "cell_type": "markdown",
   "id": "272c9de6",
   "metadata": {},
   "source": [
    "<div align=\"center\">\n",
    "  <table>\n",
    "    <tr>\n",
    "      <th></th>\n",
    "      <th>Previous</th>\n",
    "      <th>Now</th>\n",
    "    </tr>\n",
    "    <tr>\n",
    "      <td>Programming Language</td>\n",
    "      <td>R</td>\n",
    "      <td>Python</td>\n",
    "    </tr>\n",
    "    <tr>\n",
    "      <td>Environment</td>\n",
    "      <td>R Studio</td>\n",
    "      <td>Vscode, git</td>\n",
    "    </tr>\n",
    "    <tr>\n",
    "      <td>Render</td>\n",
    "      <td>Rmd</td>\n",
    "      <td>Streamlit</td>\n",
    "    </tr>\n",
    "  </table>\n",
    "</div>\n"
   ]
  },
  {
   "cell_type": "code",
   "execution_count": null,
   "id": "2a1ceb75",
   "metadata": {},
   "outputs": [],
   "source": []
  }
 ],
 "metadata": {
  "kernelspec": {
   "display_name": "Python 3 (ipykernel)",
   "language": "python",
   "name": "python3"
  },
  "language_info": {
   "codemirror_mode": {
    "name": "ipython",
    "version": 3
   },
   "file_extension": ".py",
   "mimetype": "text/x-python",
   "name": "python",
   "nbconvert_exporter": "python",
   "pygments_lexer": "ipython3",
   "version": "3.9.13"
  }
 },
 "nbformat": 4,
 "nbformat_minor": 5
}
