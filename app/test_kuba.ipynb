{
 "cells": [
  {
   "cell_type": "code",
   "execution_count": 1,
   "metadata": {},
   "outputs": [],
   "source": [
    "import utils.extract_df as extract_df\n",
    "import utils.transform as transform \n",
    "import utils.clustering as clustering \n",
    "import utils.main as main\n",
    "import streamlit as st\n",
    "import pandas as pd\n",
    "import utils.model as model\n",
    "\n"
   ]
  },
  {
   "cell_type": "code",
   "execution_count": 2,
   "metadata": {},
   "outputs": [],
   "source": [
    "df = extract_df.readcsv('data/taxi_data.csv')"
   ]
  },
  {
   "cell_type": "code",
   "execution_count": 3,
   "metadata": {},
   "outputs": [],
   "source": [
    "nyc = extract_df.readshp('data/nyc-boundaries/geo_export_9ca5396d-336c-47af-9742-ab30cd995e41.shp')"
   ]
  },
  {
   "cell_type": "code",
   "execution_count": 4,
   "metadata": {},
   "outputs": [],
   "source": [
    "df_transform = transform.dataTransformation(df = extract_df.readcsv('data/taxi_data.csv'), \n",
    "nyc = extract_df.readshp('data/nyc-boundaries/geo_export_9ca5396d-336c-47af-9742-ab30cd995e41.shp'))"
   ]
  },
  {
   "cell_type": "code",
   "execution_count": 5,
   "metadata": {},
   "outputs": [],
   "source": [
    "df_transform = df_transform.transform()"
   ]
  },
  {
   "cell_type": "code",
   "execution_count": 6,
   "metadata": {},
   "outputs": [
    {
     "data": {
      "text/plain": [
       "(Timestamp('2014-01-01 00:24:00+0000', tz='UTC'),\n",
       " Timestamp('2015-06-30 23:57:04+0000', tz='UTC'))"
      ]
     },
     "execution_count": 6,
     "metadata": {},
     "output_type": "execute_result"
    }
   ],
   "source": [
    "(pd.to_datetime(df_transform.pickup_datetime.min()), pd.to_datetime(df_transform.pickup_datetime.max()))"
   ]
  },
  {
   "cell_type": "code",
   "execution_count": 7,
   "metadata": {},
   "outputs": [
    {
     "data": {
      "text/plain": [
       "Index(['dropoff_latitude', 'dropoff_longitude', 'fare_amount', 'feat01',\n",
       "       'feat02', 'feat03', 'feat04', 'feat05', 'feat06', 'feat07', 'feat08',\n",
       "       'feat09', 'feat10', 'passenger_count', 'pickup_datetime',\n",
       "       'pickup_latitude', 'pickup_longitude', 'passenger_big_group',\n",
       "       'fare_amount_log', 'year', 'month', 'day', 'hour', 'trip_distance'],\n",
       "      dtype='object')"
      ]
     },
     "execution_count": 7,
     "metadata": {},
     "output_type": "execute_result"
    }
   ],
   "source": [
    "df_transform.columns"
   ]
  },
  {
   "cell_type": "code",
   "execution_count": 8,
   "metadata": {},
   "outputs": [
    {
     "name": "stdout",
     "output_type": "stream",
     "text": [
      "<class 'pandas.core.frame.DataFrame'>\n",
      "Index: 88175 entries, 0 to 89999\n",
      "Data columns (total 24 columns):\n",
      " #   Column               Non-Null Count  Dtype              \n",
      "---  ------               --------------  -----              \n",
      " 0   dropoff_latitude     88175 non-null  float64            \n",
      " 1   dropoff_longitude    88175 non-null  float64            \n",
      " 2   fare_amount          88175 non-null  float64            \n",
      " 3   feat01               88175 non-null  float64            \n",
      " 4   feat02               88175 non-null  float64            \n",
      " 5   feat03               88175 non-null  float64            \n",
      " 6   feat04               88175 non-null  float64            \n",
      " 7   feat05               88175 non-null  float64            \n",
      " 8   feat06               88175 non-null  float64            \n",
      " 9   feat07               88175 non-null  float64            \n",
      " 10  feat08               88175 non-null  float64            \n",
      " 11  feat09               88175 non-null  float64            \n",
      " 12  feat10               88175 non-null  float64            \n",
      " 13  passenger_count      88175 non-null  int64              \n",
      " 14  pickup_datetime      88175 non-null  datetime64[ns, UTC]\n",
      " 15  pickup_latitude      88175 non-null  float64            \n",
      " 16  pickup_longitude     88175 non-null  float64            \n",
      " 17  passenger_big_group  88175 non-null  category           \n",
      " 18  fare_amount_log      88175 non-null  float64            \n",
      " 19  year                 88175 non-null  int32              \n",
      " 20  month                88175 non-null  int32              \n",
      " 21  day                  88175 non-null  int32              \n",
      " 22  hour                 88175 non-null  int32              \n",
      " 23  trip_distance        88175 non-null  float64            \n",
      "dtypes: category(1), datetime64[ns, UTC](1), float64(17), int32(4), int64(1)\n",
      "memory usage: 14.9 MB\n"
     ]
    }
   ],
   "source": [
    "df_transform.info()"
   ]
  },
  {
   "cell_type": "markdown",
   "metadata": {},
   "source": [
    "## Clustering step "
   ]
  },
  {
   "cell_type": "code",
   "execution_count": 9,
   "metadata": {},
   "outputs": [],
   "source": [
    "df_clustered = clustering.pickUpCluster(df_transform).clusterCreated()"
   ]
  },
  {
   "cell_type": "code",
   "execution_count": 10,
   "metadata": {},
   "outputs": [
    {
     "data": {
      "text/html": [
       "<div>\n",
       "<style scoped>\n",
       "    .dataframe tbody tr th:only-of-type {\n",
       "        vertical-align: middle;\n",
       "    }\n",
       "\n",
       "    .dataframe tbody tr th {\n",
       "        vertical-align: top;\n",
       "    }\n",
       "\n",
       "    .dataframe thead th {\n",
       "        text-align: right;\n",
       "    }\n",
       "</style>\n",
       "<table border=\"1\" class=\"dataframe\">\n",
       "  <thead>\n",
       "    <tr style=\"text-align: right;\">\n",
       "      <th></th>\n",
       "      <th>dropoff_latitude</th>\n",
       "      <th>dropoff_longitude</th>\n",
       "      <th>fare_amount</th>\n",
       "      <th>feat01</th>\n",
       "      <th>feat02</th>\n",
       "      <th>feat03</th>\n",
       "      <th>feat04</th>\n",
       "      <th>feat05</th>\n",
       "      <th>feat06</th>\n",
       "      <th>feat07</th>\n",
       "      <th>...</th>\n",
       "      <th>pickup_latitude</th>\n",
       "      <th>pickup_longitude</th>\n",
       "      <th>passenger_big_group</th>\n",
       "      <th>fare_amount_log</th>\n",
       "      <th>year</th>\n",
       "      <th>month</th>\n",
       "      <th>day</th>\n",
       "      <th>hour</th>\n",
       "      <th>trip_distance</th>\n",
       "      <th>pickup_cluster</th>\n",
       "    </tr>\n",
       "  </thead>\n",
       "  <tbody>\n",
       "    <tr>\n",
       "      <th>0</th>\n",
       "      <td>40.768550</td>\n",
       "      <td>-73.862065</td>\n",
       "      <td>52.713</td>\n",
       "      <td>0.607633</td>\n",
       "      <td>0.680994</td>\n",
       "      <td>0.869333</td>\n",
       "      <td>0.359081</td>\n",
       "      <td>0.283538</td>\n",
       "      <td>0.898003</td>\n",
       "      <td>0.481185</td>\n",
       "      <td>...</td>\n",
       "      <td>40.759570</td>\n",
       "      <td>-73.985715</td>\n",
       "      <td>1</td>\n",
       "      <td>3.964862</td>\n",
       "      <td>2014</td>\n",
       "      <td>1</td>\n",
       "      <td>8</td>\n",
       "      <td>6</td>\n",
       "      <td>10.461512</td>\n",
       "      <td>0</td>\n",
       "    </tr>\n",
       "    <tr>\n",
       "      <th>1</th>\n",
       "      <td>40.746906</td>\n",
       "      <td>-73.990494</td>\n",
       "      <td>19.350</td>\n",
       "      <td>0.353808</td>\n",
       "      <td>0.555256</td>\n",
       "      <td>0.946294</td>\n",
       "      <td>0.530530</td>\n",
       "      <td>0.453938</td>\n",
       "      <td>0.708570</td>\n",
       "      <td>0.161038</td>\n",
       "      <td>...</td>\n",
       "      <td>40.759457</td>\n",
       "      <td>-73.972038</td>\n",
       "      <td>0</td>\n",
       "      <td>2.962692</td>\n",
       "      <td>2015</td>\n",
       "      <td>2</td>\n",
       "      <td>16</td>\n",
       "      <td>20</td>\n",
       "      <td>2.089068</td>\n",
       "      <td>0</td>\n",
       "    </tr>\n",
       "    <tr>\n",
       "      <th>2</th>\n",
       "      <td>40.697496</td>\n",
       "      <td>-73.984946</td>\n",
       "      <td>24.850</td>\n",
       "      <td>0.248761</td>\n",
       "      <td>0.271752</td>\n",
       "      <td>0.418165</td>\n",
       "      <td>0.368993</td>\n",
       "      <td>0.362234</td>\n",
       "      <td>0.257532</td>\n",
       "      <td>0.710595</td>\n",
       "      <td>...</td>\n",
       "      <td>40.705860</td>\n",
       "      <td>-74.013626</td>\n",
       "      <td>0</td>\n",
       "      <td>3.212858</td>\n",
       "      <td>2014</td>\n",
       "      <td>3</td>\n",
       "      <td>18</td>\n",
       "      <td>13</td>\n",
       "      <td>2.590397</td>\n",
       "      <td>5</td>\n",
       "    </tr>\n",
       "    <tr>\n",
       "      <th>3</th>\n",
       "      <td>40.767617</td>\n",
       "      <td>-73.959482</td>\n",
       "      <td>16.600</td>\n",
       "      <td>0.606718</td>\n",
       "      <td>0.809065</td>\n",
       "      <td>0.826723</td>\n",
       "      <td>0.228102</td>\n",
       "      <td>0.819767</td>\n",
       "      <td>0.859372</td>\n",
       "      <td>0.014095</td>\n",
       "      <td>...</td>\n",
       "      <td>40.779830</td>\n",
       "      <td>-73.955313</td>\n",
       "      <td>0</td>\n",
       "      <td>2.809403</td>\n",
       "      <td>2014</td>\n",
       "      <td>3</td>\n",
       "      <td>20</td>\n",
       "      <td>18</td>\n",
       "      <td>1.402666</td>\n",
       "      <td>2</td>\n",
       "    </tr>\n",
       "    <tr>\n",
       "      <th>5</th>\n",
       "      <td>40.724657</td>\n",
       "      <td>-73.994457</td>\n",
       "      <td>14.950</td>\n",
       "      <td>0.386871</td>\n",
       "      <td>0.657538</td>\n",
       "      <td>0.861953</td>\n",
       "      <td>0.155679</td>\n",
       "      <td>0.928781</td>\n",
       "      <td>0.935444</td>\n",
       "      <td>0.381414</td>\n",
       "      <td>...</td>\n",
       "      <td>40.733822</td>\n",
       "      <td>-73.991025</td>\n",
       "      <td>0</td>\n",
       "      <td>2.704711</td>\n",
       "      <td>2014</td>\n",
       "      <td>4</td>\n",
       "      <td>10</td>\n",
       "      <td>22</td>\n",
       "      <td>1.059340</td>\n",
       "      <td>4</td>\n",
       "    </tr>\n",
       "  </tbody>\n",
       "</table>\n",
       "<p>5 rows × 25 columns</p>\n",
       "</div>"
      ],
      "text/plain": [
       "   dropoff_latitude  dropoff_longitude  fare_amount    feat01    feat02  \\\n",
       "0         40.768550         -73.862065       52.713  0.607633  0.680994   \n",
       "1         40.746906         -73.990494       19.350  0.353808  0.555256   \n",
       "2         40.697496         -73.984946       24.850  0.248761  0.271752   \n",
       "3         40.767617         -73.959482       16.600  0.606718  0.809065   \n",
       "5         40.724657         -73.994457       14.950  0.386871  0.657538   \n",
       "\n",
       "     feat03    feat04    feat05    feat06    feat07  ...  pickup_latitude  \\\n",
       "0  0.869333  0.359081  0.283538  0.898003  0.481185  ...        40.759570   \n",
       "1  0.946294  0.530530  0.453938  0.708570  0.161038  ...        40.759457   \n",
       "2  0.418165  0.368993  0.362234  0.257532  0.710595  ...        40.705860   \n",
       "3  0.826723  0.228102  0.819767  0.859372  0.014095  ...        40.779830   \n",
       "5  0.861953  0.155679  0.928781  0.935444  0.381414  ...        40.733822   \n",
       "\n",
       "   pickup_longitude  passenger_big_group  fare_amount_log  year  month  day  \\\n",
       "0        -73.985715                    1         3.964862  2014      1    8   \n",
       "1        -73.972038                    0         2.962692  2015      2   16   \n",
       "2        -74.013626                    0         3.212858  2014      3   18   \n",
       "3        -73.955313                    0         2.809403  2014      3   20   \n",
       "5        -73.991025                    0         2.704711  2014      4   10   \n",
       "\n",
       "  hour  trip_distance  pickup_cluster  \n",
       "0    6      10.461512               0  \n",
       "1   20       2.089068               0  \n",
       "2   13       2.590397               5  \n",
       "3   18       1.402666               2  \n",
       "5   22       1.059340               4  \n",
       "\n",
       "[5 rows x 25 columns]"
      ]
     },
     "execution_count": 10,
     "metadata": {},
     "output_type": "execute_result"
    }
   ],
   "source": [
    "df_clustered.head()"
   ]
  },
  {
   "cell_type": "code",
   "execution_count": 11,
   "metadata": {},
   "outputs": [],
   "source": [
    "# df_clustered.to_pickle('../model/clustered_data.pkl')"
   ]
  },
  {
   "cell_type": "code",
   "execution_count": 12,
   "metadata": {},
   "outputs": [
    {
     "name": "stdout",
     "output_type": "stream",
     "text": [
      "[20.65610312 24.44235232 21.87340391 ... 20.43281534 20.72414598\n",
      " 20.43423326]\n",
      "[3.0128286  3.18655467 3.08723279 ... 2.95702168 3.02323639 2.95653851]\n",
      "6.484346368899824\n",
      "0.2046738330124263\n",
      "7.404303434315135\n",
      "0.2074535791643013\n"
     ]
    }
   ],
   "source": [
    "# drop datetime column\n",
    "df_modelling = df_clustered.drop(columns=['pickup_datetime'], inplace=False)\n",
    "# model filepahts\n",
    "model_RF_path = \"data/models/RF_model.pkl\"\n",
    "model_RF_log_path = \"data/models/RF_model.pkl\"\n",
    "# define models\n",
    "RF = model.Model(model_RF_path, df_modelling, 'fare_amount')\n",
    "RF_log = model.Model(model_RF_log_path, df_modelling, 'fare_amount_log')\n",
    "# fit models\n",
    "RF.load_model()\n",
    "RF.prepare_data()\n",
    "RF.fit_model()\n",
    "RF_log.load_model()\n",
    "RF_log.prepare_data()\n",
    "RF_log.fit_model()\n",
    "# predict\n",
    "# TODO just for prints\n",
    "print(RF.predict(RF.X_test))\n",
    "print(RF_log.predict(RF_log.X_test))\n",
    "# train score\n",
    "print(RF.train_score())\n",
    "print(RF_log.train_score())\n",
    "# test score\n",
    "print(RF.test_score())\n",
    "print(RF_log.test_score())"
   ]
  },
  {
   "cell_type": "markdown",
   "metadata": {},
   "source": [
    "## Run the application"
   ]
  },
  {
   "cell_type": "code",
   "execution_count": 23,
   "metadata": {},
   "outputs": [
    {
     "name": "stdout",
     "output_type": "stream",
     "text": [
      "\u001b[0m\n",
      "\u001b[34m\u001b[1m  You can now view your Streamlit app in your browser.\u001b[0m\n",
      "\u001b[0m\n",
      "\u001b[34m  Local URL: \u001b[0m\u001b[1mhttp://localhost:8501\u001b[0m\n",
      "\u001b[34m  Network URL: \u001b[0m\u001b[1mhttp://192.168.1.13:8501\u001b[0m\n",
      "\u001b[0m\n",
      "\u001b[34m\u001b[1m  For better performance, install the Watchdog module:\u001b[0m\n",
      "\n",
      "  $ xcode-select --install\n",
      "  $ pip install watchdog\n",
      "            \u001b[0m\n",
      "2024-06-02 22:49:14.270 `st.cache` is deprecated. Please use one of Streamlit's new caching commands,\n",
      "`st.cache_data` or `st.cache_resource`.\n",
      "\n",
      "More information [in our docs](https://docs.streamlit.io/library/advanced-features/caching).\n",
      "^C\n",
      "\u001b[34m  Stopping...\u001b[0m\n"
     ]
    }
   ],
   "source": [
    "! streamlit run 1_Homepage.py"
   ]
  }
 ],
 "metadata": {
  "kernelspec": {
   "display_name": "Python 3",
   "language": "python",
   "name": "python3"
  },
  "language_info": {
   "codemirror_mode": {
    "name": "ipython",
    "version": 3
   },
   "file_extension": ".py",
   "mimetype": "text/x-python",
   "name": "python",
   "nbconvert_exporter": "python",
   "pygments_lexer": "ipython3",
   "version": "3.10.11"
  }
 },
 "nbformat": 4,
 "nbformat_minor": 2
}
