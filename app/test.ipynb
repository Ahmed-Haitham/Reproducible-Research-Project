{
 "cells": [
  {
   "cell_type": "code",
   "execution_count": 1,
   "metadata": {},
   "outputs": [],
   "source": [
    "import utils.extract_df as extract_df\n",
    "import utils.transform as transform \n",
    "import utils.clustering as clustering \n",
    "import utils.main as main\n",
    "import streamlit as st\n",
    "import pandas as pd"
   ]
  },
  {
   "cell_type": "code",
   "execution_count": 2,
   "metadata": {},
   "outputs": [],
   "source": [
    "df = extract_df.readcsv('data/taxi_data.csv')"
   ]
  },
  {
   "cell_type": "code",
   "execution_count": 3,
   "metadata": {},
   "outputs": [
    {
     "data": {
      "text/html": [
       "<div>\n",
       "<style scoped>\n",
       "    .dataframe tbody tr th:only-of-type {\n",
       "        vertical-align: middle;\n",
       "    }\n",
       "\n",
       "    .dataframe tbody tr th {\n",
       "        vertical-align: top;\n",
       "    }\n",
       "\n",
       "    .dataframe thead th {\n",
       "        text-align: right;\n",
       "    }\n",
       "</style>\n",
       "<table border=\"1\" class=\"dataframe\">\n",
       "  <thead>\n",
       "    <tr style=\"text-align: right;\">\n",
       "      <th></th>\n",
       "      <th>boro_code</th>\n",
       "      <th>boro_name</th>\n",
       "      <th>shape_area</th>\n",
       "      <th>shape_leng</th>\n",
       "      <th>geometry</th>\n",
       "    </tr>\n",
       "  </thead>\n",
       "  <tbody>\n",
       "    <tr>\n",
       "      <th>0</th>\n",
       "      <td>5.0</td>\n",
       "      <td>Staten Island</td>\n",
       "      <td>1.623621e+09</td>\n",
       "      <td>325917.353950</td>\n",
       "      <td>MULTIPOLYGON (((-74.05051 40.56642, -74.05047 ...</td>\n",
       "    </tr>\n",
       "    <tr>\n",
       "      <th>1</th>\n",
       "      <td>1.0</td>\n",
       "      <td>Manhattan</td>\n",
       "      <td>6.365205e+08</td>\n",
       "      <td>357713.308162</td>\n",
       "      <td>MULTIPOLYGON (((-74.01093 40.68449, -74.01193 ...</td>\n",
       "    </tr>\n",
       "    <tr>\n",
       "      <th>2</th>\n",
       "      <td>2.0</td>\n",
       "      <td>Bronx</td>\n",
       "      <td>1.187175e+09</td>\n",
       "      <td>463180.579449</td>\n",
       "      <td>MULTIPOLYGON (((-73.89681 40.79581, -73.89694 ...</td>\n",
       "    </tr>\n",
       "    <tr>\n",
       "      <th>3</th>\n",
       "      <td>3.0</td>\n",
       "      <td>Brooklyn</td>\n",
       "      <td>1.934138e+09</td>\n",
       "      <td>728146.574928</td>\n",
       "      <td>MULTIPOLYGON (((-73.86327 40.58388, -73.86381 ...</td>\n",
       "    </tr>\n",
       "    <tr>\n",
       "      <th>4</th>\n",
       "      <td>4.0</td>\n",
       "      <td>Queens</td>\n",
       "      <td>3.041419e+09</td>\n",
       "      <td>888199.731385</td>\n",
       "      <td>MULTIPOLYGON (((-73.82645 40.59053, -73.82642 ...</td>\n",
       "    </tr>\n",
       "  </tbody>\n",
       "</table>\n",
       "</div>"
      ],
      "text/plain": [
       "   boro_code      boro_name    shape_area     shape_leng   \n",
       "0        5.0  Staten Island  1.623621e+09  325917.353950  \\\n",
       "1        1.0      Manhattan  6.365205e+08  357713.308162   \n",
       "2        2.0          Bronx  1.187175e+09  463180.579449   \n",
       "3        3.0       Brooklyn  1.934138e+09  728146.574928   \n",
       "4        4.0         Queens  3.041419e+09  888199.731385   \n",
       "\n",
       "                                            geometry  \n",
       "0  MULTIPOLYGON (((-74.05051 40.56642, -74.05047 ...  \n",
       "1  MULTIPOLYGON (((-74.01093 40.68449, -74.01193 ...  \n",
       "2  MULTIPOLYGON (((-73.89681 40.79581, -73.89694 ...  \n",
       "3  MULTIPOLYGON (((-73.86327 40.58388, -73.86381 ...  \n",
       "4  MULTIPOLYGON (((-73.82645 40.59053, -73.82642 ...  "
      ]
     },
     "execution_count": 3,
     "metadata": {},
     "output_type": "execute_result"
    }
   ],
   "source": [
    "extract_df.readshp('data/nyc-boundaries/geo_export_9ca5396d-336c-47af-9742-ab30cd995e41.shp')"
   ]
  },
  {
   "cell_type": "markdown",
   "metadata": {},
   "source": [
    "## Cleaning locations "
   ]
  },
  {
   "cell_type": "code",
   "execution_count": 4,
   "metadata": {},
   "outputs": [],
   "source": [
    "import geopandas as gpd\n",
    "\n",
    "# Read the shapefile of NYC\n",
    "nyc = gpd.read_file('data/nyc-boundaries/geo_export_9ca5396d-336c-47af-9742-ab30cd995e41.shp')"
   ]
  },
  {
   "cell_type": "code",
   "execution_count": 5,
   "metadata": {},
   "outputs": [
    {
     "data": {
      "text/plain": [
       "1653"
      ]
     },
     "execution_count": 5,
     "metadata": {},
     "output_type": "execute_result"
    }
   ],
   "source": [
    "### pick up missings\n",
    "missingPickup_coords = (df['pickup_longitude'] == 0) | (df['pickup_longitude'] > -72) | (df['pickup_latitude'] == 0)\n",
    "num_missingPickup = sum(missingPickup_coords)\n",
    "num_missingPickup"
   ]
  },
  {
   "cell_type": "code",
   "execution_count": 6,
   "metadata": {},
   "outputs": [
    {
     "data": {
      "text/plain": [
       "0    MULTIPOINT (-74.25402 40.50405, -74.25311 40.5...\n",
       "1    MULTIPOINT (-74.04140 40.69799, -74.04048 40.6...\n",
       "2    MULTIPOINT (-73.93227 40.81880, -73.93211 40.8...\n",
       "3    MULTIPOINT (-74.04067 40.62206, -74.04050 40.6...\n",
       "4    MULTIPOINT (-73.96029 40.74094, -73.95644 40.7...\n",
       "Name: sampled_points, dtype: geometry"
      ]
     },
     "execution_count": 6,
     "metadata": {},
     "output_type": "execute_result"
    }
   ],
   "source": [
    "# Generate random points within the NYC polygon\n",
    "random_pickup_points = nyc.geometry.sample_points(num_missingPickup, random_state=42)\n",
    "random_pickup_points"
   ]
  },
  {
   "cell_type": "code",
   "execution_count": 7,
   "metadata": {},
   "outputs": [
    {
     "data": {
      "text/plain": [
       "5"
      ]
     },
     "execution_count": 7,
     "metadata": {},
     "output_type": "execute_result"
    }
   ],
   "source": [
    "len(random_pickup_points)"
   ]
  },
  {
   "cell_type": "code",
   "execution_count": 8,
   "metadata": {},
   "outputs": [],
   "source": [
    "df_transform = transform.dataTransformation(df = extract_df.readcsv('data/taxi_data.csv'), \n",
    "nyc = extract_df.readshp('data/nyc-boundaries/geo_export_9ca5396d-336c-47af-9742-ab30cd995e41.shp'))"
   ]
  },
  {
   "cell_type": "code",
   "execution_count": 9,
   "metadata": {},
   "outputs": [],
   "source": [
    "df_transform = df_transform.transform()"
   ]
  },
  {
   "cell_type": "code",
   "execution_count": 10,
   "metadata": {},
   "outputs": [
    {
     "data": {
      "text/plain": [
       "(Timestamp('2014-01-01 00:24:00+0000', tz='UTC'),\n",
       " Timestamp('2015-06-30 23:57:04+0000', tz='UTC'))"
      ]
     },
     "execution_count": 10,
     "metadata": {},
     "output_type": "execute_result"
    }
   ],
   "source": [
    "(pd.to_datetime(df_transform.pickup_datetime.min()), pd.to_datetime(df_transform.pickup_datetime.max()))"
   ]
  },
  {
   "cell_type": "code",
   "execution_count": 9,
   "metadata": {},
   "outputs": [
    {
     "data": {
      "text/plain": [
       "Index(['dropoff_latitude', 'dropoff_longitude', 'fare_amount', 'feat01',\n",
       "       'feat02', 'feat03', 'feat04', 'feat05', 'feat06', 'feat07', 'feat08',\n",
       "       'feat09', 'feat10', 'passenger_count', 'pickup_datetime',\n",
       "       'pickup_latitude', 'pickup_longitude', 'passenger_big_group',\n",
       "       'fare_amount_log', 'year', 'month', 'day', 'hour', 'trip_distance'],\n",
       "      dtype='object')"
      ]
     },
     "execution_count": 9,
     "metadata": {},
     "output_type": "execute_result"
    }
   ],
   "source": [
    "df_transform.columns"
   ]
  },
  {
   "cell_type": "markdown",
   "metadata": {},
   "source": [
    "## Clustering step "
   ]
  },
  {
   "cell_type": "code",
   "execution_count": 11,
   "metadata": {},
   "outputs": [],
   "source": [
    "df_clustered = clustering.pickUpCluster(df_transform).clusterCreated()"
   ]
  },
  {
   "cell_type": "code",
   "execution_count": 12,
   "metadata": {},
   "outputs": [
    {
     "data": {
      "text/html": [
       "<div>\n",
       "<style scoped>\n",
       "    .dataframe tbody tr th:only-of-type {\n",
       "        vertical-align: middle;\n",
       "    }\n",
       "\n",
       "    .dataframe tbody tr th {\n",
       "        vertical-align: top;\n",
       "    }\n",
       "\n",
       "    .dataframe thead th {\n",
       "        text-align: right;\n",
       "    }\n",
       "</style>\n",
       "<table border=\"1\" class=\"dataframe\">\n",
       "  <thead>\n",
       "    <tr style=\"text-align: right;\">\n",
       "      <th></th>\n",
       "      <th>dropoff_latitude</th>\n",
       "      <th>dropoff_longitude</th>\n",
       "      <th>fare_amount</th>\n",
       "      <th>feat01</th>\n",
       "      <th>feat02</th>\n",
       "      <th>feat03</th>\n",
       "      <th>feat04</th>\n",
       "      <th>feat05</th>\n",
       "      <th>feat06</th>\n",
       "      <th>feat07</th>\n",
       "      <th>...</th>\n",
       "      <th>pickup_latitude</th>\n",
       "      <th>pickup_longitude</th>\n",
       "      <th>passenger_big_group</th>\n",
       "      <th>fare_amount_log</th>\n",
       "      <th>year</th>\n",
       "      <th>month</th>\n",
       "      <th>day</th>\n",
       "      <th>hour</th>\n",
       "      <th>trip_distance</th>\n",
       "      <th>pickup_cluster</th>\n",
       "    </tr>\n",
       "  </thead>\n",
       "  <tbody>\n",
       "    <tr>\n",
       "      <th>0</th>\n",
       "      <td>40.768550</td>\n",
       "      <td>-73.862065</td>\n",
       "      <td>52.713</td>\n",
       "      <td>0.607633</td>\n",
       "      <td>0.680994</td>\n",
       "      <td>0.869333</td>\n",
       "      <td>0.359081</td>\n",
       "      <td>0.283538</td>\n",
       "      <td>0.898003</td>\n",
       "      <td>0.481185</td>\n",
       "      <td>...</td>\n",
       "      <td>40.759570</td>\n",
       "      <td>-73.985715</td>\n",
       "      <td>1</td>\n",
       "      <td>3.964862</td>\n",
       "      <td>2014</td>\n",
       "      <td>1</td>\n",
       "      <td>8</td>\n",
       "      <td>6</td>\n",
       "      <td>10.461512</td>\n",
       "      <td>0</td>\n",
       "    </tr>\n",
       "    <tr>\n",
       "      <th>1</th>\n",
       "      <td>40.746906</td>\n",
       "      <td>-73.990494</td>\n",
       "      <td>19.350</td>\n",
       "      <td>0.353808</td>\n",
       "      <td>0.555256</td>\n",
       "      <td>0.946294</td>\n",
       "      <td>0.530530</td>\n",
       "      <td>0.453938</td>\n",
       "      <td>0.708570</td>\n",
       "      <td>0.161038</td>\n",
       "      <td>...</td>\n",
       "      <td>40.759457</td>\n",
       "      <td>-73.972038</td>\n",
       "      <td>0</td>\n",
       "      <td>2.962692</td>\n",
       "      <td>2015</td>\n",
       "      <td>2</td>\n",
       "      <td>16</td>\n",
       "      <td>20</td>\n",
       "      <td>2.089068</td>\n",
       "      <td>0</td>\n",
       "    </tr>\n",
       "    <tr>\n",
       "      <th>2</th>\n",
       "      <td>40.697496</td>\n",
       "      <td>-73.984946</td>\n",
       "      <td>24.850</td>\n",
       "      <td>0.248761</td>\n",
       "      <td>0.271752</td>\n",
       "      <td>0.418165</td>\n",
       "      <td>0.368993</td>\n",
       "      <td>0.362234</td>\n",
       "      <td>0.257532</td>\n",
       "      <td>0.710595</td>\n",
       "      <td>...</td>\n",
       "      <td>40.705860</td>\n",
       "      <td>-74.013626</td>\n",
       "      <td>0</td>\n",
       "      <td>3.212858</td>\n",
       "      <td>2014</td>\n",
       "      <td>3</td>\n",
       "      <td>18</td>\n",
       "      <td>13</td>\n",
       "      <td>2.590397</td>\n",
       "      <td>3</td>\n",
       "    </tr>\n",
       "    <tr>\n",
       "      <th>3</th>\n",
       "      <td>40.767617</td>\n",
       "      <td>-73.959482</td>\n",
       "      <td>16.600</td>\n",
       "      <td>0.606718</td>\n",
       "      <td>0.809065</td>\n",
       "      <td>0.826723</td>\n",
       "      <td>0.228102</td>\n",
       "      <td>0.819767</td>\n",
       "      <td>0.859372</td>\n",
       "      <td>0.014095</td>\n",
       "      <td>...</td>\n",
       "      <td>40.779830</td>\n",
       "      <td>-73.955313</td>\n",
       "      <td>0</td>\n",
       "      <td>2.809403</td>\n",
       "      <td>2014</td>\n",
       "      <td>3</td>\n",
       "      <td>20</td>\n",
       "      <td>18</td>\n",
       "      <td>1.402666</td>\n",
       "      <td>5</td>\n",
       "    </tr>\n",
       "    <tr>\n",
       "      <th>4</th>\n",
       "      <td>40.726230</td>\n",
       "      <td>-73.983539</td>\n",
       "      <td>14.400</td>\n",
       "      <td>0.535181</td>\n",
       "      <td>0.873709</td>\n",
       "      <td>0.757857</td>\n",
       "      <td>0.263007</td>\n",
       "      <td>0.711840</td>\n",
       "      <td>0.635563</td>\n",
       "      <td>0.126834</td>\n",
       "      <td>...</td>\n",
       "      <td>0.000000</td>\n",
       "      <td>0.000000</td>\n",
       "      <td>0</td>\n",
       "      <td>2.667228</td>\n",
       "      <td>2014</td>\n",
       "      <td>5</td>\n",
       "      <td>6</td>\n",
       "      <td>23</td>\n",
       "      <td>8665.482201</td>\n",
       "      <td>1</td>\n",
       "    </tr>\n",
       "  </tbody>\n",
       "</table>\n",
       "<p>5 rows × 25 columns</p>\n",
       "</div>"
      ],
      "text/plain": [
       "   dropoff_latitude  dropoff_longitude  fare_amount    feat01    feat02   \n",
       "0         40.768550         -73.862065       52.713  0.607633  0.680994  \\\n",
       "1         40.746906         -73.990494       19.350  0.353808  0.555256   \n",
       "2         40.697496         -73.984946       24.850  0.248761  0.271752   \n",
       "3         40.767617         -73.959482       16.600  0.606718  0.809065   \n",
       "4         40.726230         -73.983539       14.400  0.535181  0.873709   \n",
       "\n",
       "     feat03    feat04    feat05    feat06    feat07  ...  pickup_latitude   \n",
       "0  0.869333  0.359081  0.283538  0.898003  0.481185  ...        40.759570  \\\n",
       "1  0.946294  0.530530  0.453938  0.708570  0.161038  ...        40.759457   \n",
       "2  0.418165  0.368993  0.362234  0.257532  0.710595  ...        40.705860   \n",
       "3  0.826723  0.228102  0.819767  0.859372  0.014095  ...        40.779830   \n",
       "4  0.757857  0.263007  0.711840  0.635563  0.126834  ...         0.000000   \n",
       "\n",
       "   pickup_longitude  passenger_big_group  fare_amount_log  year  month  day   \n",
       "0        -73.985715                    1         3.964862  2014      1    8  \\\n",
       "1        -73.972038                    0         2.962692  2015      2   16   \n",
       "2        -74.013626                    0         3.212858  2014      3   18   \n",
       "3        -73.955313                    0         2.809403  2014      3   20   \n",
       "4          0.000000                    0         2.667228  2014      5    6   \n",
       "\n",
       "  hour  trip_distance  pickup_cluster  \n",
       "0    6      10.461512               0  \n",
       "1   20       2.089068               0  \n",
       "2   13       2.590397               3  \n",
       "3   18       1.402666               5  \n",
       "4   23    8665.482201               1  \n",
       "\n",
       "[5 rows x 25 columns]"
      ]
     },
     "execution_count": 12,
     "metadata": {},
     "output_type": "execute_result"
    }
   ],
   "source": [
    "df_clustered.head()"
   ]
  },
  {
   "cell_type": "markdown",
   "metadata": {},
   "source": [
    "## Run the application"
   ]
  },
  {
   "cell_type": "code",
   "execution_count": 13,
   "metadata": {},
   "outputs": [
    {
     "name": "stdout",
     "output_type": "stream",
     "text": [
      "^C\n"
     ]
    }
   ],
   "source": [
    "! streamlit run Homepage.py"
   ]
  }
 ],
 "metadata": {
  "kernelspec": {
   "display_name": "Python 3",
   "language": "python",
   "name": "python3"
  },
  "language_info": {
   "codemirror_mode": {
    "name": "ipython",
    "version": 3
   },
   "file_extension": ".py",
   "mimetype": "text/x-python",
   "name": "python",
   "nbconvert_exporter": "python",
   "pygments_lexer": "ipython3",
   "version": "3.11.9"
  }
 },
 "nbformat": 4,
 "nbformat_minor": 2
}
