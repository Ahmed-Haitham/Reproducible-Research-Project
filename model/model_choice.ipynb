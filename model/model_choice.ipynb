{
 "cells": [
  {
   "cell_type": "code",
   "execution_count": 3,
   "metadata": {},
   "outputs": [],
   "source": [
    "from utils.TrainRF import TrainRF\n",
    "from utils.TrainXGB import TrainXGB\n",
    "import pandas as pd"
   ]
  },
  {
   "cell_type": "code",
   "execution_count": 4,
   "metadata": {},
   "outputs": [],
   "source": [
    "data = pd.read_pickle('clean_data/clustered_data.pkl')\n",
    "# reomve 'fare_amount_log','pickup_datetime'\n",
    "data = data.drop(['fare_amount_log','pickup_datetime'],axis=1)"
   ]
  },
  {
   "cell_type": "markdown",
   "metadata": {},
   "source": [
    "# XGBoost"
   ]
  },
  {
   "cell_type": "code",
   "execution_count": 5,
   "metadata": {},
   "outputs": [
    {
     "data": {
      "text/plain": [
       "Index(['dropoff_latitude', 'dropoff_longitude', 'fare_amount', 'feat01',\n",
       "       'feat02', 'feat03', 'feat04', 'feat05', 'feat06', 'feat07', 'feat08',\n",
       "       'feat09', 'feat10', 'passenger_count', 'pickup_latitude',\n",
       "       'pickup_longitude', 'year', 'month', 'day', 'hour', 'trip_distance',\n",
       "       'passenger_big_group_0', 'passenger_big_group_1', 'pickup_cluster_0',\n",
       "       'pickup_cluster_1', 'pickup_cluster_2', 'pickup_cluster_3',\n",
       "       'pickup_cluster_4', 'pickup_cluster_5'],\n",
       "      dtype='object')"
      ]
     },
     "execution_count": 5,
     "metadata": {},
     "output_type": "execute_result"
    }
   ],
   "source": [
    "# One hot encode passenger_big_group, pickup_cluster\n",
    "data_xgb = pd.get_dummies(data, columns=['passenger_big_group','pickup_cluster'])\n",
    "data_xgb.columns"
   ]
  },
  {
   "cell_type": "code",
   "execution_count": 6,
   "metadata": {},
   "outputs": [],
   "source": [
    "# XGBOOST\n",
    "# param_grid = {\n",
    "#     'n_estimators': [1000], #Irena 1000\n",
    "#     'learning_rate': [0.05], #Irena 0.05\n",
    "#     'min_child_weight': [2,4,8], #Irena tuned this one\n",
    "#     'max_depth' : [4,6,8], # Irena tuned this one\n",
    "#     'colsample_bytree': [0.5,0.75,1], #Irena tuned this one\n",
    "# }\n",
    "param_grid = {\n",
    "    'n_estimators': [1000], #Irena 1000\n",
    "    'learning_rate': [0.05], #Irena 0.05\n",
    "    'min_child_weight': [2], #Irena tuned this one\n",
    "    'max_depth' : [4], # Irena tuned this one\n",
    "    'colsample_bytree': [0.5], #Irena tuned this one\n",
    "}"
   ]
  },
  {
   "cell_type": "code",
   "execution_count": 7,
   "metadata": {},
   "outputs": [],
   "source": [
    "model_XGB = TrainXGB(data_xgb, 'fare_amount', param_grid=param_grid, kfolds=2, seed=12345)"
   ]
  },
  {
   "cell_type": "code",
   "execution_count": 8,
   "metadata": {},
   "outputs": [
    {
     "name": "stdout",
     "output_type": "stream",
     "text": [
      "Fitting 2 folds for each of 1 candidates, totalling 2 fits\n"
     ]
    }
   ],
   "source": [
    "best_model, train_score, test_score, cv_results = model_XGB.train_model()"
   ]
  },
  {
   "cell_type": "code",
   "execution_count": 9,
   "metadata": {},
   "outputs": [
    {
     "data": {
      "text/html": [
       "<div>\n",
       "<style scoped>\n",
       "    .dataframe tbody tr th:only-of-type {\n",
       "        vertical-align: middle;\n",
       "    }\n",
       "\n",
       "    .dataframe tbody tr th {\n",
       "        vertical-align: top;\n",
       "    }\n",
       "\n",
       "    .dataframe thead th {\n",
       "        text-align: right;\n",
       "    }\n",
       "</style>\n",
       "<table border=\"1\" class=\"dataframe\">\n",
       "  <thead>\n",
       "    <tr style=\"text-align: right;\">\n",
       "      <th></th>\n",
       "      <th>mean_fit_time</th>\n",
       "      <th>std_fit_time</th>\n",
       "      <th>mean_score_time</th>\n",
       "      <th>std_score_time</th>\n",
       "      <th>param_colsample_bytree</th>\n",
       "      <th>param_learning_rate</th>\n",
       "      <th>param_max_depth</th>\n",
       "      <th>param_min_child_weight</th>\n",
       "      <th>param_n_estimators</th>\n",
       "      <th>params</th>\n",
       "      <th>split0_test_score</th>\n",
       "      <th>split1_test_score</th>\n",
       "      <th>mean_test_score</th>\n",
       "      <th>std_test_score</th>\n",
       "      <th>rank_test_score</th>\n",
       "      <th>split0_train_score</th>\n",
       "      <th>split1_train_score</th>\n",
       "      <th>mean_train_score</th>\n",
       "      <th>std_train_score</th>\n",
       "    </tr>\n",
       "  </thead>\n",
       "  <tbody>\n",
       "    <tr>\n",
       "      <th>0</th>\n",
       "      <td>5.727244</td>\n",
       "      <td>0.061752</td>\n",
       "      <td>0.846292</td>\n",
       "      <td>0.004141</td>\n",
       "      <td>0.5</td>\n",
       "      <td>0.05</td>\n",
       "      <td>4</td>\n",
       "      <td>2</td>\n",
       "      <td>1000</td>\n",
       "      <td>{'colsample_bytree': 0.5, 'learning_rate': 0.0...</td>\n",
       "      <td>-0.126041</td>\n",
       "      <td>-0.126218</td>\n",
       "      <td>-0.126129</td>\n",
       "      <td>0.000088</td>\n",
       "      <td>1</td>\n",
       "      <td>-0.107948</td>\n",
       "      <td>-0.108364</td>\n",
       "      <td>-0.108156</td>\n",
       "      <td>0.000208</td>\n",
       "    </tr>\n",
       "  </tbody>\n",
       "</table>\n",
       "</div>"
      ],
      "text/plain": [
       "   mean_fit_time  std_fit_time  mean_score_time  std_score_time  \\\n",
       "0       5.727244      0.061752         0.846292        0.004141   \n",
       "\n",
       "   param_colsample_bytree  param_learning_rate  param_max_depth  \\\n",
       "0                     0.5                 0.05                4   \n",
       "\n",
       "   param_min_child_weight  param_n_estimators  \\\n",
       "0                       2                1000   \n",
       "\n",
       "                                              params  split0_test_score  \\\n",
       "0  {'colsample_bytree': 0.5, 'learning_rate': 0.0...          -0.126041   \n",
       "\n",
       "   split1_test_score  mean_test_score  std_test_score  rank_test_score  \\\n",
       "0          -0.126218        -0.126129        0.000088                1   \n",
       "\n",
       "   split0_train_score  split1_train_score  mean_train_score  std_train_score  \n",
       "0           -0.107948           -0.108364         -0.108156         0.000208  "
      ]
     },
     "execution_count": 9,
     "metadata": {},
     "output_type": "execute_result"
    }
   ],
   "source": [
    "cv_results"
   ]
  },
  {
   "cell_type": "code",
   "execution_count": 10,
   "metadata": {},
   "outputs": [
    {
     "data": {
      "text/plain": [
       "(3.35955929125855, 4.9390648161372095)"
      ]
     },
     "execution_count": 10,
     "metadata": {},
     "output_type": "execute_result"
    }
   ],
   "source": [
    "train_score, test_score"
   ]
  },
  {
   "cell_type": "code",
   "execution_count": 11,
   "metadata": {},
   "outputs": [],
   "source": [
    "model_XGB.save_best_model('saved_models/XGB_model.pkl')"
   ]
  },
  {
   "cell_type": "markdown",
   "metadata": {},
   "source": [
    "# Random Forest"
   ]
  },
  {
   "cell_type": "code",
   "execution_count": null,
   "metadata": {},
   "outputs": [],
   "source": [
    "# param_grid = {\n",
    "#         'n_estimators': [100, 200],\n",
    "#         'max_features': [1.0, 'sqrt', 'log2'],\n",
    "#         'max_depth' : [4,8],\n",
    "#         'min_samples_split': [2],\n",
    "#     }\n",
    "param_grid = {\n",
    "    'n_estimators': [1000], #Irena 1000\n",
    "    'max_features': [1.0,'sqrt'], #Irena tuned this one\n",
    "    'max_depth' : [4,6,8],\n",
    "    'min_samples_split': [2,4,8], #Irena tuned this one\n",
    "}"
   ]
  },
  {
   "cell_type": "code",
   "execution_count": null,
   "metadata": {},
   "outputs": [],
   "source": [
    "model_RF = TrainRF(data, 'fare_amount', param_grid=param_grid, kfolds=2, seed=12345)"
   ]
  },
  {
   "cell_type": "code",
   "execution_count": null,
   "metadata": {},
   "outputs": [],
   "source": [
    "best_model, train_score, test_score, cv_results = model_RF.train_model()"
   ]
  },
  {
   "cell_type": "code",
   "execution_count": null,
   "metadata": {},
   "outputs": [],
   "source": [
    "cv_results"
   ]
  },
  {
   "cell_type": "code",
   "execution_count": null,
   "metadata": {},
   "outputs": [],
   "source": [
    "train_score, test_score"
   ]
  },
  {
   "cell_type": "code",
   "execution_count": null,
   "metadata": {},
   "outputs": [],
   "source": [
    "model_RF.save_best_model('saved_models/RF_model.pkl')"
   ]
  },
  {
   "cell_type": "code",
   "execution_count": null,
   "metadata": {},
   "outputs": [],
   "source": []
  }
 ],
 "metadata": {
  "kernelspec": {
   "display_name": ".venv",
   "language": "python",
   "name": "python3"
  },
  "language_info": {
   "codemirror_mode": {
    "name": "ipython",
    "version": 3
   },
   "file_extension": ".py",
   "mimetype": "text/x-python",
   "name": "python",
   "nbconvert_exporter": "python",
   "pygments_lexer": "ipython3",
   "version": "3.10.11"
  }
 },
 "nbformat": 4,
 "nbformat_minor": 2
}
