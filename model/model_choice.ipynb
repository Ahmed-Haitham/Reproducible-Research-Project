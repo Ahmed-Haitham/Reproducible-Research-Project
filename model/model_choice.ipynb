{
 "cells": [
  {
   "cell_type": "code",
   "execution_count": 1,
   "metadata": {},
   "outputs": [],
   "source": [
    "from utils.TrainRF import TrainRF\n",
    "import pandas as pd"
   ]
  },
  {
   "cell_type": "code",
   "execution_count": 2,
   "metadata": {},
   "outputs": [],
   "source": [
    "data = pd.read_pickle('clean_data/clustered_data.pkl')\n",
    "# reomve 'fare_amount_log','pickup_datetime'\n",
    "data = data.drop(['fare_amount_log','pickup_datetime'],axis=1)"
   ]
  },
  {
   "cell_type": "code",
   "execution_count": null,
   "metadata": {},
   "outputs": [],
   "source": [
    "# XGBOOST\n",
    "param_grid = {\n",
    "    'n_estimators': [100], #Irena 1000\n",
    "    'min_samples_split': [2], #Irena tuned this one\n",
    "    'max_depth' : [4], # Irene tuned this one\n",
    "    'learning_rate': [0.05],\n",
    "    # 'loss_reduction' : WHATEVER THAT IS # TODO Irene tuned this one\n",
    "    'max_features': ['sqrt'], #Irena tuned this one\n",
    "}"
   ]
  },
  {
   "cell_type": "code",
   "execution_count": 4,
   "metadata": {},
   "outputs": [],
   "source": [
    "# param_grid = {\n",
    "#         'n_estimators': [100, 200],\n",
    "#         'max_features': [1.0, 'sqrt', 'log2'],\n",
    "#         'max_depth' : [4,8],\n",
    "#         'min_samples_split': [2],\n",
    "#     }\n",
    "param_grid = {\n",
    "    'n_estimators': [1000], #Irena 1000\n",
    "    'max_features': [1.0,'sqrt'], #Irena tuned this one\n",
    "    'max_depth' : [8],\n",
    "    'min_samples_split': [2,4,8], #Irena tuned this one\n",
    "}"
   ]
  },
  {
   "cell_type": "code",
   "execution_count": 5,
   "metadata": {},
   "outputs": [],
   "source": [
    "model_RF = TrainRF(data, 'fare_amount', param_grid=param_grid, kfolds=2, seed=12345)"
   ]
  },
  {
   "cell_type": "code",
   "execution_count": 6,
   "metadata": {},
   "outputs": [
    {
     "name": "stdout",
     "output_type": "stream",
     "text": [
      "Fitting 2 folds for each of 1 candidates, totalling 2 fits\n"
     ]
    }
   ],
   "source": [
    "best_model, train_score, test_score, cv_results = model_RF.train_model()"
   ]
  },
  {
   "cell_type": "code",
   "execution_count": 7,
   "metadata": {},
   "outputs": [
    {
     "data": {
      "text/html": [
       "<div>\n",
       "<style scoped>\n",
       "    .dataframe tbody tr th:only-of-type {\n",
       "        vertical-align: middle;\n",
       "    }\n",
       "\n",
       "    .dataframe tbody tr th {\n",
       "        vertical-align: top;\n",
       "    }\n",
       "\n",
       "    .dataframe thead th {\n",
       "        text-align: right;\n",
       "    }\n",
       "</style>\n",
       "<table border=\"1\" class=\"dataframe\">\n",
       "  <thead>\n",
       "    <tr style=\"text-align: right;\">\n",
       "      <th></th>\n",
       "      <th>mean_fit_time</th>\n",
       "      <th>std_fit_time</th>\n",
       "      <th>mean_score_time</th>\n",
       "      <th>std_score_time</th>\n",
       "      <th>param_max_depth</th>\n",
       "      <th>param_max_features</th>\n",
       "      <th>param_min_samples_split</th>\n",
       "      <th>param_n_estimators</th>\n",
       "      <th>params</th>\n",
       "      <th>split0_test_score</th>\n",
       "      <th>split1_test_score</th>\n",
       "      <th>mean_test_score</th>\n",
       "      <th>std_test_score</th>\n",
       "      <th>rank_test_score</th>\n",
       "      <th>split0_train_score</th>\n",
       "      <th>split1_train_score</th>\n",
       "      <th>mean_train_score</th>\n",
       "      <th>std_train_score</th>\n",
       "    </tr>\n",
       "  </thead>\n",
       "  <tbody>\n",
       "    <tr>\n",
       "      <th>0</th>\n",
       "      <td>4.042195</td>\n",
       "      <td>0.014799</td>\n",
       "      <td>0.082635</td>\n",
       "      <td>0.00006</td>\n",
       "      <td>4</td>\n",
       "      <td>sqrt</td>\n",
       "      <td>2</td>\n",
       "      <td>100</td>\n",
       "      <td>{'max_depth': 4, 'max_features': 'sqrt', 'min_...</td>\n",
       "      <td>-0.21215</td>\n",
       "      <td>-0.212874</td>\n",
       "      <td>-0.212512</td>\n",
       "      <td>0.000362</td>\n",
       "      <td>1</td>\n",
       "      <td>-0.21218</td>\n",
       "      <td>-0.21033</td>\n",
       "      <td>-0.211255</td>\n",
       "      <td>0.000925</td>\n",
       "    </tr>\n",
       "  </tbody>\n",
       "</table>\n",
       "</div>"
      ],
      "text/plain": [
       "   mean_fit_time  std_fit_time  mean_score_time  std_score_time  \\\n",
       "0       4.042195      0.014799         0.082635         0.00006   \n",
       "\n",
       "   param_max_depth param_max_features  param_min_samples_split  \\\n",
       "0                4               sqrt                        2   \n",
       "\n",
       "   param_n_estimators                                             params  \\\n",
       "0                 100  {'max_depth': 4, 'max_features': 'sqrt', 'min_...   \n",
       "\n",
       "   split0_test_score  split1_test_score  mean_test_score  std_test_score  \\\n",
       "0           -0.21215          -0.212874        -0.212512        0.000362   \n",
       "\n",
       "   rank_test_score  split0_train_score  split1_train_score  mean_train_score  \\\n",
       "0                1            -0.21218            -0.21033         -0.211255   \n",
       "\n",
       "   std_train_score  \n",
       "0         0.000925  "
      ]
     },
     "execution_count": 7,
     "metadata": {},
     "output_type": "execute_result"
    }
   ],
   "source": [
    "cv_results"
   ]
  },
  {
   "cell_type": "code",
   "execution_count": 8,
   "metadata": {},
   "outputs": [
    {
     "data": {
      "text/plain": [
       "(6.433823233454624, 7.41687102137504)"
      ]
     },
     "execution_count": 8,
     "metadata": {},
     "output_type": "execute_result"
    }
   ],
   "source": [
    "train_score, test_score"
   ]
  },
  {
   "cell_type": "code",
   "execution_count": 9,
   "metadata": {},
   "outputs": [],
   "source": [
    "model_RF.save_best_model('saved_models/RF_model.pkl')"
   ]
  },
  {
   "cell_type": "code",
   "execution_count": null,
   "metadata": {},
   "outputs": [],
   "source": []
  }
 ],
 "metadata": {
  "kernelspec": {
   "display_name": ".venv",
   "language": "python",
   "name": "python3"
  },
  "language_info": {
   "codemirror_mode": {
    "name": "ipython",
    "version": 3
   },
   "file_extension": ".py",
   "mimetype": "text/x-python",
   "name": "python",
   "nbconvert_exporter": "python",
   "pygments_lexer": "ipython3",
   "version": "3.10.11"
  }
 },
 "nbformat": 4,
 "nbformat_minor": 2
}
