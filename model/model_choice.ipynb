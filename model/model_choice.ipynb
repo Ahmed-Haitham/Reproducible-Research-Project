{
 "cells": [
  {
   "cell_type": "code",
   "execution_count": 1,
   "metadata": {},
   "outputs": [],
   "source": [
    "from utils.TrainRF import TrainRF\n",
    "import pandas as pd"
   ]
  },
  {
   "cell_type": "code",
   "execution_count": 10,
   "metadata": {},
   "outputs": [],
   "source": [
    "data = pd.read_pickle('clean_data/clustered_data.pkl')\n",
    "# reomve 'fare_amount_log','pickup_datetime'\n",
    "data = data.drop(['fare_amount_log','pickup_datetime'],axis=1,inplace=True)"
   ]
  },
  {
   "cell_type": "code",
   "execution_count": 3,
   "metadata": {},
   "outputs": [],
   "source": [
    "# param_grid = {\n",
    "#         'n_estimators': [100, 200],\n",
    "#         'max_features': [1.0, 'sqrt', 'log2'],\n",
    "#         'max_depth' : [4,8],\n",
    "#         'min_samples_split': [2],\n",
    "#     }\n",
    "param_grid = {\n",
    "    'n_estimators': [100, 200],\n",
    "    'max_features': ['sqrt'],\n",
    "    'max_depth' : [4],\n",
    "    'min_samples_split': [2],\n",
    "}"
   ]
  },
  {
   "cell_type": "code",
   "execution_count": 4,
   "metadata": {},
   "outputs": [],
   "source": [
    "model_RF = TrainRF(data, 'fare_amount', param_grid=param_grid, kfolds=2)"
   ]
  },
  {
   "cell_type": "code",
   "execution_count": 5,
   "metadata": {},
   "outputs": [
    {
     "name": "stdout",
     "output_type": "stream",
     "text": [
      "Fitting 2 folds for each of 2 candidates, totalling 4 fits\n"
     ]
    }
   ],
   "source": [
    "best_model, train_score, test_score, cv_results = model_RF.train_model()"
   ]
  },
  {
   "cell_type": "code",
   "execution_count": 9,
   "metadata": {},
   "outputs": [
    {
     "data": {
      "text/html": [
       "<div>\n",
       "<style scoped>\n",
       "    .dataframe tbody tr th:only-of-type {\n",
       "        vertical-align: middle;\n",
       "    }\n",
       "\n",
       "    .dataframe tbody tr th {\n",
       "        vertical-align: top;\n",
       "    }\n",
       "\n",
       "    .dataframe thead th {\n",
       "        text-align: right;\n",
       "    }\n",
       "</style>\n",
       "<table border=\"1\" class=\"dataframe\">\n",
       "  <thead>\n",
       "    <tr style=\"text-align: right;\">\n",
       "      <th></th>\n",
       "      <th>mean_fit_time</th>\n",
       "      <th>std_fit_time</th>\n",
       "      <th>mean_score_time</th>\n",
       "      <th>std_score_time</th>\n",
       "      <th>param_max_depth</th>\n",
       "      <th>param_max_features</th>\n",
       "      <th>param_min_samples_split</th>\n",
       "      <th>param_n_estimators</th>\n",
       "      <th>params</th>\n",
       "      <th>split0_test_score</th>\n",
       "      <th>split1_test_score</th>\n",
       "      <th>mean_test_score</th>\n",
       "      <th>std_test_score</th>\n",
       "      <th>rank_test_score</th>\n",
       "      <th>split0_train_score</th>\n",
       "      <th>split1_train_score</th>\n",
       "      <th>mean_train_score</th>\n",
       "      <th>std_train_score</th>\n",
       "    </tr>\n",
       "  </thead>\n",
       "  <tbody>\n",
       "    <tr>\n",
       "      <th>0</th>\n",
       "      <td>5.571253</td>\n",
       "      <td>0.049869</td>\n",
       "      <td>0.154152</td>\n",
       "      <td>0.003277</td>\n",
       "      <td>4</td>\n",
       "      <td>sqrt</td>\n",
       "      <td>2</td>\n",
       "      <td>100</td>\n",
       "      <td>{'max_depth': 4, 'max_features': 'sqrt', 'min_...</td>\n",
       "      <td>-0.212150</td>\n",
       "      <td>-0.212874</td>\n",
       "      <td>-0.212512</td>\n",
       "      <td>0.000362</td>\n",
       "      <td>2</td>\n",
       "      <td>-0.212180</td>\n",
       "      <td>-0.210330</td>\n",
       "      <td>-0.211255</td>\n",
       "      <td>0.000925</td>\n",
       "    </tr>\n",
       "    <tr>\n",
       "      <th>1</th>\n",
       "      <td>12.140529</td>\n",
       "      <td>0.164926</td>\n",
       "      <td>0.214952</td>\n",
       "      <td>0.003456</td>\n",
       "      <td>4</td>\n",
       "      <td>sqrt</td>\n",
       "      <td>2</td>\n",
       "      <td>200</td>\n",
       "      <td>{'max_depth': 4, 'max_features': 'sqrt', 'min_...</td>\n",
       "      <td>-0.211862</td>\n",
       "      <td>-0.211004</td>\n",
       "      <td>-0.211433</td>\n",
       "      <td>0.000429</td>\n",
       "      <td>1</td>\n",
       "      <td>-0.211731</td>\n",
       "      <td>-0.208628</td>\n",
       "      <td>-0.210180</td>\n",
       "      <td>0.001552</td>\n",
       "    </tr>\n",
       "  </tbody>\n",
       "</table>\n",
       "</div>"
      ],
      "text/plain": [
       "   mean_fit_time  std_fit_time  mean_score_time  std_score_time  \\\n",
       "0       5.571253      0.049869         0.154152        0.003277   \n",
       "1      12.140529      0.164926         0.214952        0.003456   \n",
       "\n",
       "   param_max_depth param_max_features  param_min_samples_split  \\\n",
       "0                4               sqrt                        2   \n",
       "1                4               sqrt                        2   \n",
       "\n",
       "   param_n_estimators                                             params  \\\n",
       "0                 100  {'max_depth': 4, 'max_features': 'sqrt', 'min_...   \n",
       "1                 200  {'max_depth': 4, 'max_features': 'sqrt', 'min_...   \n",
       "\n",
       "   split0_test_score  split1_test_score  mean_test_score  std_test_score  \\\n",
       "0          -0.212150          -0.212874        -0.212512        0.000362   \n",
       "1          -0.211862          -0.211004        -0.211433        0.000429   \n",
       "\n",
       "   rank_test_score  split0_train_score  split1_train_score  mean_train_score  \\\n",
       "0                2           -0.212180           -0.210330         -0.211255   \n",
       "1                1           -0.211731           -0.208628         -0.210180   \n",
       "\n",
       "   std_train_score  \n",
       "0         0.000925  \n",
       "1         0.001552  "
      ]
     },
     "execution_count": 9,
     "metadata": {},
     "output_type": "execute_result"
    }
   ],
   "source": [
    "cv_results"
   ]
  }
 ],
 "metadata": {
  "kernelspec": {
   "display_name": ".venv",
   "language": "python",
   "name": "python3"
  },
  "language_info": {
   "codemirror_mode": {
    "name": "ipython",
    "version": 3
   },
   "file_extension": ".py",
   "mimetype": "text/x-python",
   "name": "python",
   "nbconvert_exporter": "python",
   "pygments_lexer": "ipython3",
   "version": "3.10.11"
  }
 },
 "nbformat": 4,
 "nbformat_minor": 2
}
